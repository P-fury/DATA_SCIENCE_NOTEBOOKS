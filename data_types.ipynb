{
 "cells": [
  {
   "cell_type": "markdown",
   "id": "33bc38d3-1e4f-44ba-b52c-6f4bfe893f47",
   "metadata": {},
   "source": [
    "# Python Data Type:\n",
    "\n",
    "1. bool - wartosc logiczna (algebra [boolowska](https://pl.wikipedia.org/wiki/Algebra_Boole%E2%80%99a))\n",
    "2. int - liczba calkowita\n",
    "3. float - liczba zmiennoprzecinkowa\n",
    "4. complex - [liczba urojona](https://pl.wikipedia.org/wiki/Liczby_urojone)\n",
    "5. str - kolekcja charpoints (character -znalk, point - punkt)\n",
    "6. list - kolekcja\n",
    "7. toupe - kolekcja \n",
    "8. set - zbior unikalnych wartosci / hashowalny \n",
    "9. dict - kolecja par klucz-wartosc\n",
    "10. range - generator"
   ]
  },
  {
   "cell_type": "markdown",
   "id": "c77cbb44-f819-4705-89b7-54ae0b6db9cb",
   "metadata": {},
   "source": [
    "Zmiana typu danych:\n",
    "- CASTING (jawna zmiana typu danych)\n",
    "- CORECTION (niejawna zmiana typu danych)\n",
    "\n",
    "***"
   ]
  },
  {
   "cell_type": "markdown",
   "id": "d166f7b8-7056-491d-b3e5-c89a1effffe9",
   "metadata": {},
   "source": [
    "## BOOL\n",
    "- wartosc logiczna\n",
    "- truthly/falsy values\n",
    "- casting (jawna zmiana typu danych)\n",
    "- coercion ( niejawna zmiana typu danych)\n",
    "```python\n",
    "  x = True\n",
    "  y = False\n",
    "  type(x) # bool\n",
    "```\n",
    "  \n",
    "  Moze sie przydac:\n",
    "  [PRAWA DE MORGANA](https://pl.wikipedia.org/wiki/Prawa_De_Morgana)\n",
    "  \n",
    "  \n",
    "  "
   ]
  },
  {
   "cell_type": "code",
   "execution_count": 5,
   "id": "54cf1064-4b4f-4a43-9b47-d7693a58ada3",
   "metadata": {},
   "outputs": [
    {
     "data": {
      "text/plain": [
       "bool"
      ]
     },
     "execution_count": 5,
     "metadata": {},
     "output_type": "execute_result"
    }
   ],
   "source": [
    "x = True\n",
    "type(x)"
   ]
  },
  {
   "cell_type": "markdown",
   "id": "398558c2-ff11-4dc1-909c-72710e7a5640",
   "metadata": {},
   "source": [
    "Liczby - 0 to False, inne od 0 to True, niezalenie od liczbowego typu danych"
   ]
  },
  {
   "cell_type": "code",
   "execution_count": 8,
   "id": "837648f9-1bd1-4751-8033-68a20c4adafd",
   "metadata": {},
   "outputs": [
    {
     "data": {
      "text/plain": [
       "False"
      ]
     },
     "execution_count": 8,
     "metadata": {},
     "output_type": "execute_result"
    }
   ],
   "source": [
    "bool(0)"
   ]
  },
  {
   "cell_type": "code",
   "execution_count": 10,
   "id": "23823faf-3d1a-45cc-99c1-b64e5dbe0ad2",
   "metadata": {},
   "outputs": [
    {
     "data": {
      "text/plain": [
       "True"
      ]
     },
     "execution_count": 10,
     "metadata": {},
     "output_type": "execute_result"
    }
   ],
   "source": [
    "bool(42)"
   ]
  },
  {
   "cell_type": "code",
   "execution_count": 12,
   "id": "bae51764-b5ea-4189-bc2d-42ff34ce7e43",
   "metadata": {},
   "outputs": [
    {
     "data": {
      "text/plain": [
       "True"
      ]
     },
     "execution_count": 12,
     "metadata": {},
     "output_type": "execute_result"
    }
   ],
   "source": [
    "bool('ala')"
   ]
  },
  {
   "cell_type": "markdown",
   "id": "8cb61784-b918-4e4b-94f7-2cbd95b19ca3",
   "metadata": {},
   "source": [
    "Kolekcje danych - puste to False, niepuste to True"
   ]
  },
  {
   "cell_type": "code",
   "execution_count": 15,
   "id": "14defd46-9258-4375-911f-b8897c9059df",
   "metadata": {},
   "outputs": [
    {
     "data": {
      "text/plain": [
       "False"
      ]
     },
     "execution_count": 15,
     "metadata": {},
     "output_type": "execute_result"
    }
   ],
   "source": [
    "# None == nic, stad False\n",
    "bool(None)"
   ]
  },
  {
   "cell_type": "markdown",
   "id": "142c9cac-9a58-4300-be92-fdaee73bfa55",
   "metadata": {},
   "source": [
    "___\n",
    "\n",
    "\n",
    "## INT - liczba całkowita\n",
    "\n",
    "1. Precyzja nieskończona, da się zapisać dowolną wielką liczbę całkowitą.\n",
    "\n",
    "```python\n",
    "x = 42\n",
    "type(x) # int\n",
    "```"
   ]
  },
  {
   "cell_type": "code",
   "execution_count": 18,
   "id": "a8f174d3-3853-4e97-aa1c-8ee7d8050983",
   "metadata": {},
   "outputs": [
    {
     "data": {
      "text/plain": [
       "int"
      ]
     },
     "execution_count": 18,
     "metadata": {},
     "output_type": "execute_result"
    }
   ],
   "source": [
    "x = 322\n",
    "type(x)"
   ]
  },
  {
   "cell_type": "code",
   "execution_count": 20,
   "id": "cd3539da-1a94-43d1-a86e-2f8d0cbdaf57",
   "metadata": {},
   "outputs": [
    {
     "data": {
      "text/plain": [
       "442"
      ]
     },
     "execution_count": 20,
     "metadata": {},
     "output_type": "execute_result"
    }
   ],
   "source": [
    "x += 120\n",
    "x"
   ]
  },
  {
   "cell_type": "code",
   "execution_count": 22,
   "id": "80c6ad22-975e-46cb-bcec-9f203968aff1",
   "metadata": {},
   "outputs": [
    {
     "data": {
      "text/plain": [
       "2"
      ]
     },
     "execution_count": 22,
     "metadata": {},
     "output_type": "execute_result"
    }
   ],
   "source": [
    "# reminder - reszta z dzielenia, (niektorzy nazywaja to modulo)\n",
    "x % 44"
   ]
  },
  {
   "cell_type": "markdown",
   "id": "06d27101-7f49-4e9f-bfec-4588f7eabeb3",
   "metadata": {},
   "source": [
    "___\n",
    "\n",
    "## FLOAT - liczba zmiennoprzecinkowa\n",
    "1. precyzja double\n",
    "2. standard IEEE 754\\\n",
    "(by poprawic precyzje uzywamy 'import decimal' np. pieniadze\\\n",
    "<ins>Decimal('23.34')</ins>)\n",
    "```python \n",
    "x = 4.2 \n",
    "type(x) # int\n",
    "```\n",
    "---"
   ]
  },
  {
   "cell_type": "markdown",
   "id": "dea6f792-8deb-41e1-96a4-de8225783e25",
   "metadata": {},
   "source": [
    "## STRING\n",
    "1. Kolekcja charpoints\n",
    "2. Uporzadkowany (index)\n",
    "3. Homogeniczny (string w python sklada sie ze stringow)\n",
    "4. Nie modyfikowalny (immutable)\n",
    "\n",
    "```python\n",
    "x = 'ala ma kota'\n",
    "type(x) # str\n",
    "```"
   ]
  },
  {
   "cell_type": "code",
   "execution_count": 26,
   "id": "1981942d-91e1-431f-998a-844b257e0f7a",
   "metadata": {},
   "outputs": [],
   "source": [
    "sentence = 'ala ma kota'"
   ]
  },
  {
   "cell_type": "markdown",
   "id": "412e17c0-13b9-43f3-9bb9-7f9c80e3df54",
   "metadata": {},
   "source": [
    "<h4>type to metaklasa, ktora zwraca typ obiektu (typ danych)</h4>"
   ]
  },
  {
   "cell_type": "code",
   "execution_count": 29,
   "id": "fed3e6ae-d553-432b-9edf-0da1d1bfaabe",
   "metadata": {},
   "outputs": [
    {
     "data": {
      "text/plain": [
       "str"
      ]
     },
     "execution_count": 29,
     "metadata": {},
     "output_type": "execute_result"
    }
   ],
   "source": [
    "type(sentence)"
   ]
  },
  {
   "cell_type": "markdown",
   "id": "1a4b23d2-bd1d-4b6e-afb5-6642da6fde0f",
   "metadata": {},
   "source": [
    "DOUNDER - portmanteau od slow double underscores\\\n",
    "<ins>Konwencja oznaczania rzeczy wbudowanych do Python (niskopoziomowych)<ins>"
   ]
  },
  {
   "cell_type": "code",
   "execution_count": 32,
   "id": "2a8d5866-fa80-404a-9e90-a70bb5adf240",
   "metadata": {
    "scrolled": true
   },
   "outputs": [
    {
     "data": {
      "text/plain": [
       "['__add__',\n",
       " '__class__',\n",
       " '__contains__',\n",
       " '__delattr__',\n",
       " '__dir__',\n",
       " '__doc__',\n",
       " '__eq__',\n",
       " '__format__',\n",
       " '__ge__',\n",
       " '__getattribute__',\n",
       " '__getitem__',\n",
       " '__getnewargs__',\n",
       " '__getstate__',\n",
       " '__gt__',\n",
       " '__hash__',\n",
       " '__init__',\n",
       " '__init_subclass__',\n",
       " '__iter__',\n",
       " '__le__',\n",
       " '__len__',\n",
       " '__lt__',\n",
       " '__mod__',\n",
       " '__mul__',\n",
       " '__ne__',\n",
       " '__new__',\n",
       " '__reduce__',\n",
       " '__reduce_ex__',\n",
       " '__repr__',\n",
       " '__rmod__',\n",
       " '__rmul__',\n",
       " '__setattr__',\n",
       " '__sizeof__',\n",
       " '__str__',\n",
       " '__subclasshook__',\n",
       " 'capitalize',\n",
       " 'casefold',\n",
       " 'center',\n",
       " 'count',\n",
       " 'encode',\n",
       " 'endswith',\n",
       " 'expandtabs',\n",
       " 'find',\n",
       " 'format',\n",
       " 'format_map',\n",
       " 'index',\n",
       " 'isalnum',\n",
       " 'isalpha',\n",
       " 'isascii',\n",
       " 'isdecimal',\n",
       " 'isdigit',\n",
       " 'isidentifier',\n",
       " 'islower',\n",
       " 'isnumeric',\n",
       " 'isprintable',\n",
       " 'isspace',\n",
       " 'istitle',\n",
       " 'isupper',\n",
       " 'join',\n",
       " 'ljust',\n",
       " 'lower',\n",
       " 'lstrip',\n",
       " 'maketrans',\n",
       " 'partition',\n",
       " 'removeprefix',\n",
       " 'removesuffix',\n",
       " 'replace',\n",
       " 'rfind',\n",
       " 'rindex',\n",
       " 'rjust',\n",
       " 'rpartition',\n",
       " 'rsplit',\n",
       " 'rstrip',\n",
       " 'split',\n",
       " 'splitlines',\n",
       " 'startswith',\n",
       " 'strip',\n",
       " 'swapcase',\n",
       " 'title',\n",
       " 'translate',\n",
       " 'upper',\n",
       " 'zfill']"
      ]
     },
     "execution_count": 32,
     "metadata": {},
     "output_type": "execute_result"
    }
   ],
   "source": [
    "# zwraca wszystkie metody obiektu (funkcjonalnosci)(__python features__)\n",
    "dir(str)"
   ]
  },
  {
   "cell_type": "code",
   "execution_count": 34,
   "id": "ec97b5a4-deb9-42f0-9231-80a500f2a754",
   "metadata": {},
   "outputs": [
    {
     "data": {
      "text/plain": [
       "'ala ma kota'"
      ]
     },
     "execution_count": 34,
     "metadata": {},
     "output_type": "execute_result"
    }
   ],
   "source": [
    "sentence"
   ]
  },
  {
   "cell_type": "code",
   "execution_count": 36,
   "id": "e55509bf-dec9-4fe6-996f-0894c037ca94",
   "metadata": {},
   "outputs": [
    {
     "data": {
      "text/plain": [
       "'ALA MA KOTA'"
      ]
     },
     "execution_count": 36,
     "metadata": {},
     "output_type": "execute_result"
    }
   ],
   "source": [
    "sentence.upper()"
   ]
  },
  {
   "cell_type": "code",
   "execution_count": 38,
   "id": "3b876034-913a-4b4c-a5de-3ad9bd18bc9c",
   "metadata": {},
   "outputs": [
    {
     "data": {
      "text/plain": [
       "'Ala ma kota'"
      ]
     },
     "execution_count": 38,
     "metadata": {},
     "output_type": "execute_result"
    }
   ],
   "source": [
    "sentence.capitalize()"
   ]
  },
  {
   "cell_type": "code",
   "execution_count": 40,
   "id": "bfdf2387-656f-4665-9dd3-2dd12363077e",
   "metadata": {},
   "outputs": [
    {
     "data": {
      "text/plain": [
       "'Ala Ma Kota'"
      ]
     },
     "execution_count": 40,
     "metadata": {},
     "output_type": "execute_result"
    }
   ],
   "source": [
    "sentence.title()"
   ]
  },
  {
   "cell_type": "code",
   "execution_count": 42,
   "id": "7ae366d6-bc46-4f30-87bf-d798527e7366",
   "metadata": {},
   "outputs": [
    {
     "data": {
      "text/plain": [
       "'ala ma kotaA'"
      ]
     },
     "execution_count": 42,
     "metadata": {},
     "output_type": "execute_result"
    }
   ],
   "source": [
    "sentence + sentence[-1].upper()"
   ]
  },
  {
   "cell_type": "code",
   "execution_count": 44,
   "id": "abae8f0a-2127-4d99-95cc-ab5a2713f8b2",
   "metadata": {},
   "outputs": [
    {
     "data": {
      "text/plain": [
       "True"
      ]
     },
     "execution_count": 44,
     "metadata": {},
     "output_type": "execute_result"
    }
   ],
   "source": [
    "sentence.startswith('ala')"
   ]
  },
  {
   "cell_type": "code",
   "execution_count": 46,
   "id": "8122401b-28bb-409e-9bfb-2d0292312c63",
   "metadata": {},
   "outputs": [
    {
     "data": {
      "text/plain": [
       "False"
      ]
     },
     "execution_count": 46,
     "metadata": {},
     "output_type": "execute_result"
    }
   ],
   "source": [
    "sentence.endswith('asssd')"
   ]
  },
  {
   "cell_type": "code",
   "execution_count": 48,
   "id": "1fbc99e6-afbf-45c2-ab0c-82c235511bbf",
   "metadata": {},
   "outputs": [
    {
     "data": {
      "text/plain": [
       "'ala ma psa'"
      ]
     },
     "execution_count": 48,
     "metadata": {},
     "output_type": "execute_result"
    }
   ],
   "source": [
    "sentence.replace('kota','psa')"
   ]
  },
  {
   "cell_type": "code",
   "execution_count": 50,
   "id": "097165ee-1a1c-47e2-9f8d-443a1b8511fe",
   "metadata": {},
   "outputs": [
    {
     "data": {
      "text/plain": [
       "['ala', 'ma', 'kota']"
      ]
     },
     "execution_count": 50,
     "metadata": {},
     "output_type": "execute_result"
    }
   ],
   "source": [
    "sentence.split()"
   ]
  },
  {
   "cell_type": "code",
   "execution_count": 52,
   "id": "0c1596e0-5506-4533-b255-dc816842b1f0",
   "metadata": {},
   "outputs": [
    {
     "data": {
      "text/plain": [
       "['ala', 'kota']"
      ]
     },
     "execution_count": 52,
     "metadata": {},
     "output_type": "execute_result"
    }
   ],
   "source": [
    "sentence.split(' ma ')"
   ]
  },
  {
   "cell_type": "code",
   "execution_count": 54,
   "id": "5e000535-ca95-4c5f-98f9-dd70e569f93b",
   "metadata": {},
   "outputs": [
    {
     "data": {
      "text/plain": [
       "'ala ma kota'"
      ]
     },
     "execution_count": 54,
     "metadata": {},
     "output_type": "execute_result"
    }
   ],
   "source": [
    "words = ['ala','ma','kota']\n",
    "' '.join(words)"
   ]
  },
  {
   "cell_type": "code",
   "execution_count": 56,
   "id": "fd972b78-95b4-40ac-9940-149c720d485b",
   "metadata": {},
   "outputs": [
    {
     "name": "stdout",
     "output_type": "stream",
     "text": [
      "ala\n",
      "ma\n",
      "kota\n"
     ]
    }
   ],
   "source": [
    "#print potrzebny w interactive python zeby uzyc \\n\n",
    "print('\\n'.join(words))"
   ]
  },
  {
   "cell_type": "code",
   "execution_count": 58,
   "id": "ab5ec3a1-93a7-4240-827d-7214a16df94d",
   "metadata": {},
   "outputs": [
    {
     "data": {
      "text/plain": [
       "False"
      ]
     },
     "execution_count": 58,
     "metadata": {},
     "output_type": "execute_result"
    }
   ],
   "source": [
    "\"yolo\".isdigit()"
   ]
  },
  {
   "cell_type": "code",
   "execution_count": 60,
   "id": "2450bced-d22d-4f4f-93d7-f531468436fd",
   "metadata": {},
   "outputs": [
    {
     "data": {
      "text/plain": [
       "True"
      ]
     },
     "execution_count": 60,
     "metadata": {},
     "output_type": "execute_result"
    }
   ],
   "source": [
    "'1234'.isdigit()"
   ]
  },
  {
   "cell_type": "markdown",
   "id": "695d6b30-0ef5-43fd-8b3b-7983ebd9a791",
   "metadata": {},
   "source": [
    "## SLICING\n",
    "\n",
    "| a | l | a |  | m | a |\n",
    ":---:|:---:|:---:|:--:|:---:|:---:\n",
    "| 0 | 1 | 2 | 3 | 4 | 5 |\n",
    "| -6 | -5 | -4 | -3 | -2 | -1 |\n",
    "\n",
    "```python\n",
    "# start - przedzial zamkniety\n",
    "# stop - przedzial otwarty\n",
    "\n",
    "\n",
    "sentence[3] # sentence[index]\n",
    "sentence[1:2] # sentence[start:stop]\n",
    "sentence[1:5:2] # sentence[start:stop:step]\n",
    "```"
   ]
  },
  {
   "cell_type": "code",
   "execution_count": 63,
   "id": "e4bfae4c-2df8-4be2-bf8b-766f71e28ab9",
   "metadata": {},
   "outputs": [
    {
     "data": {
      "text/plain": [
       "'ala ma kota'"
      ]
     },
     "execution_count": 63,
     "metadata": {},
     "output_type": "execute_result"
    }
   ],
   "source": [
    "sentence"
   ]
  },
  {
   "cell_type": "code",
   "execution_count": 65,
   "id": "54c871fe-9d5a-4bb2-bf55-86e65fad751f",
   "metadata": {},
   "outputs": [
    {
     "data": {
      "text/plain": [
       "'ala'"
      ]
     },
     "execution_count": 65,
     "metadata": {},
     "output_type": "execute_result"
    }
   ],
   "source": [
    "sentence[0:3]"
   ]
  },
  {
   "cell_type": "code",
   "execution_count": 67,
   "id": "ee6b65f8-0791-48f9-bfc6-fc80c8e838f9",
   "metadata": {},
   "outputs": [
    {
     "data": {
      "text/plain": [
       "'ala'"
      ]
     },
     "execution_count": 67,
     "metadata": {},
     "output_type": "execute_result"
    }
   ],
   "source": [
    "sentence[:3]"
   ]
  },
  {
   "cell_type": "code",
   "execution_count": 69,
   "id": "47d55e3d-da4a-4f77-addb-fd16081a6ae8",
   "metadata": {},
   "outputs": [
    {
     "data": {
      "text/plain": [
       "'kota'"
      ]
     },
     "execution_count": 69,
     "metadata": {},
     "output_type": "execute_result"
    }
   ],
   "source": [
    "sentence[7:11]"
   ]
  },
  {
   "cell_type": "code",
   "execution_count": 71,
   "id": "e8be8a53-a590-4ef3-88cd-872991869181",
   "metadata": {},
   "outputs": [
    {
     "data": {
      "text/plain": [
       "'kota'"
      ]
     },
     "execution_count": 71,
     "metadata": {},
     "output_type": "execute_result"
    }
   ],
   "source": [
    "sentence[-4:]\n"
   ]
  },
  {
   "cell_type": "code",
   "execution_count": 73,
   "id": "17ddf431-5b6d-4ee4-8167-9e6435c5dcf5",
   "metadata": {},
   "outputs": [
    {
     "data": {
      "text/plain": [
       "'aam oa'"
      ]
     },
     "execution_count": 73,
     "metadata": {},
     "output_type": "execute_result"
    }
   ],
   "source": [
    "sentence[::2]"
   ]
  },
  {
   "cell_type": "code",
   "execution_count": 75,
   "id": "133f310e-42fe-42ff-bb80-a0a239c1054f",
   "metadata": {},
   "outputs": [
    {
     "data": {
      "text/plain": [
       "'atok am ala'"
      ]
     },
     "execution_count": 75,
     "metadata": {},
     "output_type": "execute_result"
    }
   ],
   "source": [
    "# REVERSE\n",
    "sentence[::-1]"
   ]
  },
  {
   "cell_type": "code",
   "execution_count": 77,
   "id": "d3ee6a3b-d916-4d4c-971b-1394e63f21f9",
   "metadata": {},
   "outputs": [
    {
     "data": {
      "text/plain": [
       "'atok'"
      ]
     },
     "execution_count": 77,
     "metadata": {},
     "output_type": "execute_result"
    }
   ],
   "source": [
    "sentence[:6:-1]"
   ]
  },
  {
   "cell_type": "code",
   "execution_count": 79,
   "id": "3894cb60-202d-4ab3-a631-c7aee73ee422",
   "metadata": {},
   "outputs": [
    {
     "data": {
      "text/plain": [
       "'atok'"
      ]
     },
     "execution_count": 79,
     "metadata": {},
     "output_type": "execute_result"
    }
   ],
   "source": [
    "sentence[-4:][::-1]"
   ]
  }
 ],
 "metadata": {
  "kernelspec": {
   "display_name": "Python 3 (ipykernel)",
   "language": "python",
   "name": "python3"
  },
  "language_info": {
   "codemirror_mode": {
    "name": "ipython",
    "version": 3
   },
   "file_extension": ".py",
   "mimetype": "text/x-python",
   "name": "python",
   "nbconvert_exporter": "python",
   "pygments_lexer": "ipython3",
   "version": "3.12.4"
  }
 },
 "nbformat": 4,
 "nbformat_minor": 5
}
