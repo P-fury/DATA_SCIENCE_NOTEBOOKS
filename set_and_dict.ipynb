{
 "cells": [
  {
   "cell_type": "markdown",
   "id": "0d60f335-fc0a-4341-8c16-6154c5e257d8",
   "metadata": {},
   "source": [
    "# SET\n",
    "1. Zwiera unikalne wartosci\n",
    "2. Kolekcja\n",
    "3. Nieuporzadkowana\n",
    "4. Heterogeniczna, ale tylko hashowalne\n",
    "5. Modyfikowalny\n",
    "\n",
    "```python\n",
    "x = {1,2}\n",
    "type(x) # set\n",
    "# set(iterable) # np. set([1,2,3]) -> {1,2,3}\n",
    "```"
   ]
  },
  {
   "cell_type": "code",
   "execution_count": 31,
   "id": "b1287211-6d55-49ee-8b03-f3f6aed96cc1",
   "metadata": {},
   "outputs": [
    {
     "data": {
      "text/plain": [
       "set"
      ]
     },
     "execution_count": 31,
     "metadata": {},
     "output_type": "execute_result"
    }
   ],
   "source": [
    "x = {1,2,3}\n",
    "type(x)"
   ]
  },
  {
   "cell_type": "code",
   "execution_count": 33,
   "id": "69529eeb-d7f5-4976-a8b6-5323a36608f6",
   "metadata": {},
   "outputs": [
    {
     "data": {
      "text/plain": [
       "{1, 2, 3}"
      ]
     },
     "execution_count": 33,
     "metadata": {},
     "output_type": "execute_result"
    }
   ],
   "source": [
    "l = {1,2,3}\n",
    "set(l)"
   ]
  },
  {
   "cell_type": "code",
   "execution_count": 41,
   "id": "81df27ad-2bbf-4958-92e4-3202f76c14d1",
   "metadata": {},
   "outputs": [
    {
     "data": {
      "text/plain": [
       "(1, 2, 3, 4, [42, 2, 3])"
      ]
     },
     "execution_count": 41,
     "metadata": {},
     "output_type": "execute_result"
    }
   ],
   "source": [
    "t =(1,2,3,4,[1,2,3])\n",
    "t[-1][0] = 42\n",
    "t"
   ]
  },
  {
   "cell_type": "code",
   "execution_count": 32,
   "id": "6863af9c-8764-4f26-81d5-beeef459a15b",
   "metadata": {
    "scrolled": true
   },
   "outputs": [
    {
     "data": {
      "text/plain": [
       "['__and__',\n",
       " '__class__',\n",
       " '__class_getitem__',\n",
       " '__contains__',\n",
       " '__delattr__',\n",
       " '__dir__',\n",
       " '__doc__',\n",
       " '__eq__',\n",
       " '__format__',\n",
       " '__ge__',\n",
       " '__getattribute__',\n",
       " '__getstate__',\n",
       " '__gt__',\n",
       " '__hash__',\n",
       " '__iand__',\n",
       " '__init__',\n",
       " '__init_subclass__',\n",
       " '__ior__',\n",
       " '__isub__',\n",
       " '__iter__',\n",
       " '__ixor__',\n",
       " '__le__',\n",
       " '__len__',\n",
       " '__lt__',\n",
       " '__ne__',\n",
       " '__new__',\n",
       " '__or__',\n",
       " '__rand__',\n",
       " '__reduce__',\n",
       " '__reduce_ex__',\n",
       " '__repr__',\n",
       " '__ror__',\n",
       " '__rsub__',\n",
       " '__rxor__',\n",
       " '__setattr__',\n",
       " '__sizeof__',\n",
       " '__str__',\n",
       " '__sub__',\n",
       " '__subclasshook__',\n",
       " '__xor__',\n",
       " 'add',\n",
       " 'clear',\n",
       " 'copy',\n",
       " 'difference',\n",
       " 'difference_update',\n",
       " 'discard',\n",
       " 'intersection',\n",
       " 'intersection_update',\n",
       " 'isdisjoint',\n",
       " 'issubset',\n",
       " 'issuperset',\n",
       " 'pop',\n",
       " 'remove',\n",
       " 'symmetric_difference',\n",
       " 'symmetric_difference_update',\n",
       " 'union',\n",
       " 'update']"
      ]
     },
     "execution_count": 32,
     "metadata": {},
     "output_type": "execute_result"
    }
   ],
   "source": [
    "dir(set)"
   ]
  },
  {
   "cell_type": "code",
   "execution_count": 67,
   "id": "571d6f30-f58e-4dcb-aba7-b7a33bbdf678",
   "metadata": {},
   "outputs": [],
   "source": [
    "x = {1,2,3}\n",
    "y = {3,4,5}"
   ]
  },
  {
   "cell_type": "code",
   "execution_count": 47,
   "id": "c6ac75d0-8b09-41ba-b207-3a3de5ea3abc",
   "metadata": {},
   "outputs": [
    {
     "data": {
      "text/plain": [
       "{1, 2, 3}"
      ]
     },
     "execution_count": 47,
     "metadata": {},
     "output_type": "execute_result"
    }
   ],
   "source": [
    "x.add(2)\n",
    "x"
   ]
  },
  {
   "cell_type": "code",
   "execution_count": 49,
   "id": "ea715af0-eede-4dc1-b4b8-9e6f9029bbc9",
   "metadata": {},
   "outputs": [
    {
     "data": {
      "text/plain": [
       "set()"
      ]
     },
     "execution_count": 49,
     "metadata": {},
     "output_type": "execute_result"
    }
   ],
   "source": [
    "x.clear()\n",
    "x"
   ]
  },
  {
   "cell_type": "code",
   "execution_count": 53,
   "id": "d40adc7c-4313-4cce-a02a-101fdd024856",
   "metadata": {},
   "outputs": [
    {
     "data": {
      "text/plain": [
       "{1, 2}"
      ]
     },
     "execution_count": 53,
     "metadata": {},
     "output_type": "execute_result"
    }
   ],
   "source": [
    "x.difference(y)"
   ]
  },
  {
   "cell_type": "code",
   "execution_count": 74,
   "id": "a01aa2e6-dd17-4dde-bb3a-c7f46e420b77",
   "metadata": {},
   "outputs": [
    {
     "data": {
      "text/plain": [
       "{1, 2}"
      ]
     },
     "execution_count": 74,
     "metadata": {},
     "output_type": "execute_result"
    }
   ],
   "source": [
    "x"
   ]
  },
  {
   "cell_type": "code",
   "execution_count": 76,
   "id": "aa487357-4a0f-419d-987b-797f5d1bf56e",
   "metadata": {},
   "outputs": [
    {
     "data": {
      "text/plain": [
       "{1, 2}"
      ]
     },
     "execution_count": 76,
     "metadata": {},
     "output_type": "execute_result"
    }
   ],
   "source": [
    "# MUTUJE WYBRANY SET()\n",
    "x.difference_update(y)\n",
    "x"
   ]
  },
  {
   "cell_type": "code",
   "execution_count": 81,
   "id": "a0dee3b8-3934-4ef1-a4a1-acd38d71ee41",
   "metadata": {},
   "outputs": [
    {
     "data": {
      "text/plain": [
       "{1}"
      ]
     },
     "execution_count": 81,
     "metadata": {},
     "output_type": "execute_result"
    }
   ],
   "source": [
    "x.discard(2)\n",
    "x"
   ]
  },
  {
   "cell_type": "markdown",
   "id": "d3ee6d51-b037-4899-b1e6-47b7a4446396",
   "metadata": {},
   "source": [
    "# DICT\n",
    "\n",
    "1. Kolekcja par,klucz - wartosc\n",
    "2. Uporzadkowany (od python 3.6+), nie korzystac z tej wlasnosci, wybrac => (OrderedDict)\n",
    "3. Heterogeniczny\n",
    "4. Modyfikowalny (mutable)\n",
    "\n",
    "## Key\n",
    "- hashable (dlatego, ze musza byc unikalne)\n",
    "\n",
    "## Value\n",
    "- dowolny poprawny typ python\n",
    "\n",
    "```python\n",
    "d = {\"a\" : 1, \"b\" : 2}\n",
    "d1 = dict()\n",
    "\n",
    "type(d) # dict\n",
    "\n",
    "```"
   ]
  },
  {
   "cell_type": "code",
   "execution_count": 2,
   "id": "16cec6fc-c00b-4107-833b-a803d8ceedf6",
   "metadata": {},
   "outputs": [],
   "source": [
    "d = dict()"
   ]
  },
  {
   "cell_type": "code",
   "execution_count": 4,
   "id": "447e9d9f-0b6d-4260-b8bf-7ddf993fb01e",
   "metadata": {},
   "outputs": [
    {
     "data": {
      "text/plain": [
       "dict"
      ]
     },
     "execution_count": 4,
     "metadata": {},
     "output_type": "execute_result"
    }
   ],
   "source": [
    "type(d)"
   ]
  },
  {
   "cell_type": "code",
   "execution_count": 20,
   "id": "94d70ce2-4e8f-4379-9dad-7e3d9359e11b",
   "metadata": {},
   "outputs": [
    {
     "data": {
      "text/plain": [
       "{1: 'a', 2: 'b'}"
      ]
     },
     "execution_count": 20,
     "metadata": {},
     "output_type": "execute_result"
    }
   ],
   "source": [
    "dict([[1,'a'],[2,'b']])"
   ]
  },
  {
   "cell_type": "code",
   "execution_count": 26,
   "id": "ec3d7d33-8175-47e5-9bd7-845d5762b21d",
   "metadata": {},
   "outputs": [
    {
     "data": {
      "text/plain": [
       "{'a': [1, 2, 3, 4], 'b': [2, 3, 4]}"
      ]
     },
     "execution_count": 26,
     "metadata": {},
     "output_type": "execute_result"
    }
   ],
   "source": [
    "dict(a=[1,2,3,4],b = [2,3,4])"
   ]
  },
  {
   "cell_type": "code",
   "execution_count": 34,
   "id": "a50f0453-4bd9-4b36-865b-c2f8a019b95f",
   "metadata": {},
   "outputs": [
    {
     "data": {
      "text/plain": [
       "['__class__',\n",
       " '__class_getitem__',\n",
       " '__contains__',\n",
       " '__delattr__',\n",
       " '__delitem__',\n",
       " '__dir__',\n",
       " '__doc__',\n",
       " '__eq__',\n",
       " '__format__',\n",
       " '__ge__',\n",
       " '__getattribute__',\n",
       " '__getitem__',\n",
       " '__getstate__',\n",
       " '__gt__',\n",
       " '__hash__',\n",
       " '__init__',\n",
       " '__init_subclass__',\n",
       " '__ior__',\n",
       " '__iter__',\n",
       " '__le__',\n",
       " '__len__',\n",
       " '__lt__',\n",
       " '__ne__',\n",
       " '__new__',\n",
       " '__or__',\n",
       " '__reduce__',\n",
       " '__reduce_ex__',\n",
       " '__repr__',\n",
       " '__reversed__',\n",
       " '__ror__',\n",
       " '__setattr__',\n",
       " '__setitem__',\n",
       " '__sizeof__',\n",
       " '__str__',\n",
       " '__subclasshook__',\n",
       " 'clear',\n",
       " 'copy',\n",
       " 'fromkeys',\n",
       " 'get',\n",
       " 'items',\n",
       " 'keys',\n",
       " 'pop',\n",
       " 'popitem',\n",
       " 'setdefault',\n",
       " 'update',\n",
       " 'values']"
      ]
     },
     "execution_count": 34,
     "metadata": {},
     "output_type": "execute_result"
    }
   ],
   "source": [
    "dir(dict)"
   ]
  },
  {
   "cell_type": "code",
   "execution_count": 42,
   "id": "416cbc65-f1a2-4ef1-819c-46a6d2d022a0",
   "metadata": {},
   "outputs": [],
   "source": [
    "d = {'a':1,'b':2}"
   ]
  },
  {
   "cell_type": "code",
   "execution_count": 40,
   "id": "6fcead63-595e-45e1-92c6-252b3888b6ff",
   "metadata": {},
   "outputs": [
    {
     "data": {
      "text/plain": [
       "{}"
      ]
     },
     "execution_count": 40,
     "metadata": {},
     "output_type": "execute_result"
    }
   ],
   "source": [
    "d.clear()\n",
    "d"
   ]
  },
  {
   "cell_type": "code",
   "execution_count": 44,
   "id": "4802839f-9509-4e54-9450-87704c5d98c3",
   "metadata": {},
   "outputs": [],
   "source": [
    "d = {'a':1,'b':2}"
   ]
  },
  {
   "cell_type": "code",
   "execution_count": 46,
   "id": "93e31022-cd25-4cdf-b566-2ec67e88fa61",
   "metadata": {},
   "outputs": [
    {
     "data": {
      "text/plain": [
       "{'a': 1, 'b': 2}"
      ]
     },
     "execution_count": 46,
     "metadata": {},
     "output_type": "execute_result"
    }
   ],
   "source": [
    "d1 = d.copy()\n",
    "d1"
   ]
  },
  {
   "cell_type": "code",
   "execution_count": 48,
   "id": "4ebb9bfc-2a44-4822-966b-16eda2ffe142",
   "metadata": {},
   "outputs": [
    {
     "data": {
      "text/plain": [
       "1"
      ]
     },
     "execution_count": 48,
     "metadata": {},
     "output_type": "execute_result"
    }
   ],
   "source": [
    "d['a']"
   ]
  },
  {
   "cell_type": "code",
   "execution_count": 50,
   "id": "47f1a9e2-b74b-4b86-a089-1f8840bf90f8",
   "metadata": {},
   "outputs": [
    {
     "ename": "KeyError",
     "evalue": "'z'",
     "output_type": "error",
     "traceback": [
      "\u001b[0;31m---------------------------------------------------------------------------\u001b[0m",
      "\u001b[0;31mKeyError\u001b[0m                                  Traceback (most recent call last)",
      "Cell \u001b[0;32mIn[50], line 1\u001b[0m\n\u001b[0;32m----> 1\u001b[0m d[\u001b[38;5;124m'\u001b[39m\u001b[38;5;124mz\u001b[39m\u001b[38;5;124m'\u001b[39m]\n",
      "\u001b[0;31mKeyError\u001b[0m: 'z'"
     ]
    }
   ],
   "source": [
    "d['z']"
   ]
  },
  {
   "cell_type": "code",
   "execution_count": 54,
   "id": "a74b7d30-08d6-4bed-a3b7-08a9dfcda9d6",
   "metadata": {},
   "outputs": [
    {
     "name": "stdout",
     "output_type": "stream",
     "text": [
      "None\n"
     ]
    }
   ],
   "source": [
    "print(d.get('z'))"
   ]
  },
  {
   "cell_type": "code",
   "execution_count": 56,
   "id": "82826f8b-6c40-4edc-887c-7a26c62ee1c0",
   "metadata": {},
   "outputs": [
    {
     "data": {
      "text/plain": [
       "'something is no yes!'"
      ]
     },
     "execution_count": 56,
     "metadata": {},
     "output_type": "execute_result"
    }
   ],
   "source": [
    "d.get('z','something is no yes!')"
   ]
  },
  {
   "cell_type": "code",
   "execution_count": 58,
   "id": "71054e31-f69a-4b66-a984-f48dd267c50f",
   "metadata": {},
   "outputs": [
    {
     "data": {
      "text/plain": [
       "dict_keys(['a', 'b'])"
      ]
     },
     "execution_count": 58,
     "metadata": {},
     "output_type": "execute_result"
    }
   ],
   "source": [
    "d.keys()"
   ]
  },
  {
   "cell_type": "code",
   "execution_count": 60,
   "id": "3d51cbe9-dfed-40bf-a3b8-686f9477f4d1",
   "metadata": {},
   "outputs": [
    {
     "data": {
      "text/plain": [
       "dict_values([1, 2])"
      ]
     },
     "execution_count": 60,
     "metadata": {},
     "output_type": "execute_result"
    }
   ],
   "source": [
    "d.values()"
   ]
  },
  {
   "cell_type": "code",
   "execution_count": 62,
   "id": "a49e3ee8-6677-4345-a58c-9ebfc7182d5b",
   "metadata": {},
   "outputs": [
    {
     "data": {
      "text/plain": [
       "dict_items([('a', 1), ('b', 2)])"
      ]
     },
     "execution_count": 62,
     "metadata": {},
     "output_type": "execute_result"
    }
   ],
   "source": [
    "d.items()"
   ]
  },
  {
   "cell_type": "markdown",
   "id": "5cb97686-c69f-4643-b604-728c5758fe5e",
   "metadata": {},
   "source": [
    "#### Keys"
   ]
  },
  {
   "cell_type": "markdown",
   "id": "d574ae53-5552-458f-9faf-d0b20cd973a4",
   "metadata": {},
   "source": [
    "d = {\n",
    "    True: 1,\n",
    "    1:2,\n",
    "    0:3,\n",
    "    False : 4,\n",
    "    0.000000 :5,\n",
    "    0.0000000001 :6,\n",
    "    (1,): 7,\n",
    "    (1,2) : 8,\n",
    "    \"\" : 9,\n",
    "    \"ala\" :10,  \n",
    "}"
   ]
  },
  {
   "cell_type": "code",
   "execution_count": 72,
   "id": "320dd336-e66e-4d53-959c-40ca3f9ccfa3",
   "metadata": {},
   "outputs": [
    {
     "data": {
      "text/plain": [
       "{True: 2, 0: 5, 1e-10: 6, (1,): 7, (1, 2): 8, '': 9, 'ala': 10}"
      ]
     },
     "execution_count": 72,
     "metadata": {},
     "output_type": "execute_result"
    }
   ],
   "source": [
    "d"
   ]
  },
  {
   "cell_type": "code",
   "execution_count": 74,
   "id": "5a6cf54c-26a9-4adf-9464-ee8781380d5a",
   "metadata": {},
   "outputs": [
    {
     "data": {
      "text/plain": [
       "2"
      ]
     },
     "execution_count": 74,
     "metadata": {},
     "output_type": "execute_result"
    }
   ],
   "source": [
    "d[1]"
   ]
  },
  {
   "cell_type": "code",
   "execution_count": 78,
   "id": "599f717d-0207-4e6f-9804-6d316221cc84",
   "metadata": {},
   "outputs": [
    {
     "data": {
      "text/plain": [
       "(1, 1, 1)"
      ]
     },
     "execution_count": 78,
     "metadata": {},
     "output_type": "execute_result"
    }
   ],
   "source": [
    "hash(1), hash(True), hash(1.000)"
   ]
  },
  {
   "cell_type": "code",
   "execution_count": 80,
   "id": "42ba3216-6974-47e7-88c3-73f11aa0c45b",
   "metadata": {},
   "outputs": [
    {
     "data": {
      "text/plain": [
       "2"
      ]
     },
     "execution_count": 80,
     "metadata": {},
     "output_type": "execute_result"
    }
   ],
   "source": [
    "d[1.0000]"
   ]
  },
  {
   "cell_type": "code",
   "execution_count": 82,
   "id": "ce2ffda5-9686-4bd3-9a3e-3f5e256fc2d3",
   "metadata": {},
   "outputs": [
    {
     "data": {
      "text/plain": [
       "2"
      ]
     },
     "execution_count": 82,
     "metadata": {},
     "output_type": "execute_result"
    }
   ],
   "source": [
    "d[True]"
   ]
  },
  {
   "cell_type": "code",
   "execution_count": 84,
   "id": "8f46da98-ab7d-4fbc-9f3f-0aa03f938a17",
   "metadata": {},
   "outputs": [
    {
     "data": {
      "text/plain": [
       "7"
      ]
     },
     "execution_count": 84,
     "metadata": {},
     "output_type": "execute_result"
    }
   ],
   "source": [
    "d[(1,)]"
   ]
  },
  {
   "cell_type": "code",
   "execution_count": 86,
   "id": "547d0834-0302-4bb2-b2b5-98ce808b90bb",
   "metadata": {},
   "outputs": [],
   "source": [
    "capitals = {\n",
    "    \"Poland\": \"Warsaw\",\n",
    "    \"Germany\": \"Berlin\",\n",
    "    \"France\": \"Paris\",\n",
    "    \"Italy\": \"Rome\",\n",
    "    \"Spain\": \"Madrid\",\n",
    "    \"United Kingdom\": \"London\",\n",
    "    \"United States\": \"Washington, D.C.\",\n",
    "    \"Canada\": \"Ottawa\",\n",
    "    \"Australia\": \"Canberra\",\n",
    "    \"Japan\": \"Tokyo\"\n",
    "}"
   ]
  },
  {
   "cell_type": "code",
   "execution_count": 104,
   "id": "c3641853-fedb-4419-a9ae-6b55eb254527",
   "metadata": {},
   "outputs": [
    {
     "name": "stdout",
     "output_type": "stream",
     "text": [
      "Poland\n",
      "France\n",
      "Spain\n",
      "United States\n",
      "Canada\n",
      "Australia\n"
     ]
    }
   ],
   "source": [
    "# domyslny iterator w slowniku iteruje po kluczach\n",
    "for country in capitals:\n",
    "    if 'a' in capitals[country]:\n",
    "        print(country)"
   ]
  },
  {
   "cell_type": "code",
   "execution_count": 108,
   "id": "05f3aff7-652c-4fc7-a1b6-692429ab91ac",
   "metadata": {},
   "outputs": [
    {
     "name": "stdout",
     "output_type": "stream",
     "text": [
      "Poland\n",
      "France\n",
      "Spain\n",
      "United States\n",
      "Canada\n",
      "Australia\n"
     ]
    }
   ],
   "source": [
    "for country, capital in capitals.items():\n",
    "    if 'a' in capital:\n",
    "        print(country)"
   ]
  },
  {
   "cell_type": "code",
   "execution_count": 112,
   "id": "931316f6-e68f-4400-93c3-71aa7e5bac90",
   "metadata": {},
   "outputs": [
    {
     "data": {
      "text/plain": [
       "['Poland',\n",
       " 'Germany',\n",
       " 'France',\n",
       " 'Italy',\n",
       " 'Spain',\n",
       " 'United Kingdom',\n",
       " 'United States',\n",
       " 'Canada',\n",
       " 'Australia',\n",
       " 'Japan']"
      ]
     },
     "execution_count": 112,
     "metadata": {},
     "output_type": "execute_result"
    }
   ],
   "source": [
    "list(capitals.keys())"
   ]
  },
  {
   "cell_type": "code",
   "execution_count": 114,
   "id": "2df76b45-5b6b-4c9a-9582-aded137630c8",
   "metadata": {},
   "outputs": [
    {
     "data": {
      "text/plain": [
       "['Poland',\n",
       " 'Germany',\n",
       " 'France',\n",
       " 'Italy',\n",
       " 'Spain',\n",
       " 'United Kingdom',\n",
       " 'United States',\n",
       " 'Canada',\n",
       " 'Australia',\n",
       " 'Japan']"
      ]
     },
     "execution_count": 114,
     "metadata": {},
     "output_type": "execute_result"
    }
   ],
   "source": [
    "list(capitals)"
   ]
  },
  {
   "cell_type": "code",
   "execution_count": 120,
   "id": "bf086d51-b0d1-4ccc-89da-26a6cb70f80a",
   "metadata": {},
   "outputs": [
    {
     "data": {
      "text/plain": [
       "('Warsaw',\n",
       " 'Berlin',\n",
       " 'Paris',\n",
       " 'Rome',\n",
       " 'Madrid',\n",
       " 'London',\n",
       " 'Washington, D.C.',\n",
       " 'Ottawa',\n",
       " 'Canberra',\n",
       " 'Tokyo')"
      ]
     },
     "execution_count": 120,
     "metadata": {},
     "output_type": "execute_result"
    }
   ],
   "source": [
    "tuple(capitals.values())"
   ]
  },
  {
   "cell_type": "code",
   "execution_count": null,
   "id": "f324c851-c0d0-4cca-a6e0-04cabf5b2c39",
   "metadata": {},
   "outputs": [],
   "source": []
  }
 ],
 "metadata": {
  "kernelspec": {
   "display_name": "Python 3 (ipykernel)",
   "language": "python",
   "name": "python3"
  },
  "language_info": {
   "codemirror_mode": {
    "name": "ipython",
    "version": 3
   },
   "file_extension": ".py",
   "mimetype": "text/x-python",
   "name": "python",
   "nbconvert_exporter": "python",
   "pygments_lexer": "ipython3",
   "version": "3.12.4"
  }
 },
 "nbformat": 4,
 "nbformat_minor": 5
}
