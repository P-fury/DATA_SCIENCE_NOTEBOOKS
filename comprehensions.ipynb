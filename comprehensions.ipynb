{
 "cells": [
  {
   "cell_type": "markdown",
   "id": "9ad819bc-0762-4d7d-ae36-8f6a491e40be",
   "metadata": {},
   "source": [
    "# Comprehensions\n",
    "\n",
    "1. list Comprehensions\n",
    "2. set Comprehensions\n",
    "3. dict Comprehensions\n",
    "4. genrator Comprehensions"
   ]
  },
  {
   "cell_type": "markdown",
   "id": "9b2f3107-7f8b-4ac6-badc-ca57e19aca1a",
   "metadata": {},
   "source": [
    "## List comprehension\n",
    "\n",
    "```python\n",
    "[item for item in iterable if condition]\n",
    "[mapping for element in iterable if filtering]\n",
    "```"
   ]
  },
  {
   "cell_type": "code",
   "execution_count": 5,
   "id": "3faf7a41-1048-43c5-83c2-ac47f4c872c6",
   "metadata": {},
   "outputs": [],
   "source": [
    "data = [1,2,3,4]"
   ]
  },
  {
   "cell_type": "code",
   "execution_count": 15,
   "id": "c34bd1be-cb68-442f-a580-c0f73a7f953e",
   "metadata": {},
   "outputs": [
    {
     "data": {
      "text/plain": [
       "[2, 4, 6, 8]"
      ]
     },
     "execution_count": 15,
     "metadata": {},
     "output_type": "execute_result"
    }
   ],
   "source": [
    "data2 = []\n",
    "for digit in data:\n",
    "    data2.append(digit * 2)\n",
    "data2"
   ]
  },
  {
   "cell_type": "code",
   "execution_count": 17,
   "id": "512574e9-bc1e-4203-be0f-ba62eb66b48d",
   "metadata": {},
   "outputs": [
    {
     "data": {
      "text/plain": [
       "[2, 4, 6, 8]"
      ]
     },
     "execution_count": 17,
     "metadata": {},
     "output_type": "execute_result"
    }
   ],
   "source": [
    "data3 = [2 * element for element in data]\n",
    "data3"
   ]
  },
  {
   "cell_type": "code",
   "execution_count": 21,
   "id": "dc3525eb-745a-4bea-963c-1c0a3d76b194",
   "metadata": {},
   "outputs": [
    {
     "data": {
      "text/plain": [
       "[2, 4, 6, 8]"
      ]
     },
     "execution_count": 21,
     "metadata": {},
     "output_type": "execute_result"
    }
   ],
   "source": [
    "list(map(lambda digit: digit * 2, data))"
   ]
  },
  {
   "cell_type": "code",
   "execution_count": 23,
   "id": "021bfba8-fcc8-4e82-b923-6ce12dd0c9a2",
   "metadata": {},
   "outputs": [
    {
     "data": {
      "application/json": {
       "cell": {
        "!": "OSMagics",
        "HTML": "Other",
        "SVG": "Other",
        "bash": "Other",
        "capture": "ExecutionMagics",
        "code_wrap": "ExecutionMagics",
        "debug": "ExecutionMagics",
        "file": "Other",
        "html": "DisplayMagics",
        "javascript": "DisplayMagics",
        "js": "DisplayMagics",
        "latex": "DisplayMagics",
        "markdown": "DisplayMagics",
        "perl": "Other",
        "prun": "ExecutionMagics",
        "pypy": "Other",
        "python": "Other",
        "python2": "Other",
        "python3": "Other",
        "ruby": "Other",
        "script": "ScriptMagics",
        "sh": "Other",
        "svg": "DisplayMagics",
        "sx": "OSMagics",
        "system": "OSMagics",
        "time": "ExecutionMagics",
        "timeit": "ExecutionMagics",
        "writefile": "OSMagics"
       },
       "line": {
        "alias": "OSMagics",
        "alias_magic": "BasicMagics",
        "autoawait": "AsyncMagics",
        "autocall": "AutoMagics",
        "automagic": "AutoMagics",
        "autosave": "KernelMagics",
        "bookmark": "OSMagics",
        "cat": "Other",
        "cd": "OSMagics",
        "clear": "KernelMagics",
        "code_wrap": "ExecutionMagics",
        "colors": "BasicMagics",
        "conda": "PackagingMagics",
        "config": "ConfigMagics",
        "connect_info": "KernelMagics",
        "cp": "Other",
        "debug": "ExecutionMagics",
        "dhist": "OSMagics",
        "dirs": "OSMagics",
        "doctest_mode": "BasicMagics",
        "ed": "Other",
        "edit": "KernelMagics",
        "env": "OSMagics",
        "gui": "BasicMagics",
        "hist": "Other",
        "history": "HistoryMagics",
        "killbgscripts": "ScriptMagics",
        "ldir": "Other",
        "less": "KernelMagics",
        "lf": "Other",
        "lk": "Other",
        "ll": "Other",
        "load": "CodeMagics",
        "load_ext": "ExtensionMagics",
        "loadpy": "CodeMagics",
        "logoff": "LoggingMagics",
        "logon": "LoggingMagics",
        "logstart": "LoggingMagics",
        "logstate": "LoggingMagics",
        "logstop": "LoggingMagics",
        "ls": "Other",
        "lsmagic": "BasicMagics",
        "lx": "Other",
        "macro": "ExecutionMagics",
        "magic": "BasicMagics",
        "mamba": "PackagingMagics",
        "man": "KernelMagics",
        "matplotlib": "PylabMagics",
        "micromamba": "PackagingMagics",
        "mkdir": "Other",
        "more": "KernelMagics",
        "mv": "Other",
        "notebook": "BasicMagics",
        "page": "BasicMagics",
        "pastebin": "CodeMagics",
        "pdb": "ExecutionMagics",
        "pdef": "NamespaceMagics",
        "pdoc": "NamespaceMagics",
        "pfile": "NamespaceMagics",
        "pinfo": "NamespaceMagics",
        "pinfo2": "NamespaceMagics",
        "pip": "PackagingMagics",
        "popd": "OSMagics",
        "pprint": "BasicMagics",
        "precision": "BasicMagics",
        "prun": "ExecutionMagics",
        "psearch": "NamespaceMagics",
        "psource": "NamespaceMagics",
        "pushd": "OSMagics",
        "pwd": "OSMagics",
        "pycat": "OSMagics",
        "pylab": "PylabMagics",
        "qtconsole": "KernelMagics",
        "quickref": "BasicMagics",
        "recall": "HistoryMagics",
        "rehashx": "OSMagics",
        "reload_ext": "ExtensionMagics",
        "rep": "Other",
        "rerun": "HistoryMagics",
        "reset": "NamespaceMagics",
        "reset_selective": "NamespaceMagics",
        "rm": "Other",
        "rmdir": "Other",
        "run": "ExecutionMagics",
        "save": "CodeMagics",
        "sc": "OSMagics",
        "set_env": "OSMagics",
        "store": "StoreMagics",
        "sx": "OSMagics",
        "system": "OSMagics",
        "tb": "ExecutionMagics",
        "time": "ExecutionMagics",
        "timeit": "ExecutionMagics",
        "unalias": "OSMagics",
        "unload_ext": "ExtensionMagics",
        "who": "NamespaceMagics",
        "who_ls": "NamespaceMagics",
        "whos": "NamespaceMagics",
        "xdel": "NamespaceMagics",
        "xmode": "BasicMagics"
       }
      },
      "text/plain": [
       "Available line magics:\n",
       "%alias  %alias_magic  %autoawait  %autocall  %automagic  %autosave  %bookmark  %cat  %cd  %clear  %code_wrap  %colors  %conda  %config  %connect_info  %cp  %debug  %dhist  %dirs  %doctest_mode  %ed  %edit  %env  %gui  %hist  %history  %killbgscripts  %ldir  %less  %lf  %lk  %ll  %load  %load_ext  %loadpy  %logoff  %logon  %logstart  %logstate  %logstop  %ls  %lsmagic  %lx  %macro  %magic  %mamba  %man  %matplotlib  %micromamba  %mkdir  %more  %mv  %notebook  %page  %pastebin  %pdb  %pdef  %pdoc  %pfile  %pinfo  %pinfo2  %pip  %popd  %pprint  %precision  %prun  %psearch  %psource  %pushd  %pwd  %pycat  %pylab  %qtconsole  %quickref  %recall  %rehashx  %reload_ext  %rep  %rerun  %reset  %reset_selective  %rm  %rmdir  %run  %save  %sc  %set_env  %store  %sx  %system  %tb  %time  %timeit  %unalias  %unload_ext  %who  %who_ls  %whos  %xdel  %xmode\n",
       "\n",
       "Available cell magics:\n",
       "%%!  %%HTML  %%SVG  %%bash  %%capture  %%code_wrap  %%debug  %%file  %%html  %%javascript  %%js  %%latex  %%markdown  %%perl  %%prun  %%pypy  %%python  %%python2  %%python3  %%ruby  %%script  %%sh  %%svg  %%sx  %%system  %%time  %%timeit  %%writefile\n",
       "\n",
       "Automagic is ON, % prefix IS NOT needed for line magics."
      ]
     },
     "execution_count": 23,
     "metadata": {},
     "output_type": "execute_result"
    }
   ],
   "source": [
    "%lsmagic"
   ]
  },
  {
   "cell_type": "code",
   "execution_count": 31,
   "id": "eaf8854e-7550-47d9-82dd-c7d8244f8bd7",
   "metadata": {},
   "outputs": [
    {
     "name": "stdout",
     "output_type": "stream",
     "text": [
      "78 ns ± 0.923 ns per loop (mean ± std. dev. of 7 runs, 10,000,000 loops each)\n"
     ]
    }
   ],
   "source": [
    "%%timeit\n",
    "\n",
    "[digit * 2 for digit in data]"
   ]
  },
  {
   "cell_type": "code",
   "execution_count": 33,
   "id": "92e2045e-2d1b-4f73-8454-0ed6287dc33c",
   "metadata": {},
   "outputs": [
    {
     "name": "stdout",
     "output_type": "stream",
     "text": [
      "91.2 ns ± 0.645 ns per loop (mean ± std. dev. of 7 runs, 10,000,000 loops each)\n"
     ]
    }
   ],
   "source": [
    "%%timeit\n",
    "\n",
    "map(lambda digit: digit * 2,data)"
   ]
  },
  {
   "cell_type": "code",
   "execution_count": 35,
   "id": "5b67c3a0-a010-4ca8-819a-d9bbbb02eff5",
   "metadata": {},
   "outputs": [],
   "source": [
    "data = [1,2,3,4]"
   ]
  },
  {
   "cell_type": "code",
   "execution_count": 39,
   "id": "983e056d-acde-4eee-9924-16452cbe70aa",
   "metadata": {},
   "outputs": [
    {
     "data": {
      "text/plain": [
       "[6, 12]"
      ]
     },
     "execution_count": 39,
     "metadata": {},
     "output_type": "execute_result"
    }
   ],
   "source": [
    "data2 = []\n",
    "for nbr in data:\n",
    "    if nbr % 2 == 0:\n",
    "        data2.append(nbr * 3)\n",
    "data2"
   ]
  },
  {
   "cell_type": "code",
   "execution_count": 43,
   "id": "c6603371-cd88-4d86-80b7-17856e3ae0de",
   "metadata": {},
   "outputs": [
    {
     "data": {
      "text/plain": [
       "[6, 12]"
      ]
     },
     "execution_count": 43,
     "metadata": {},
     "output_type": "execute_result"
    }
   ],
   "source": [
    "[nbr * 3 for nbr in data if nbr % 2 == 0]"
   ]
  },
  {
   "cell_type": "code",
   "execution_count": 73,
   "id": "7314a3e7-3489-4478-a230-9eeb8c87d202",
   "metadata": {},
   "outputs": [],
   "source": [
    "data = [[1,2],[3,4]]"
   ]
  },
  {
   "cell_type": "code",
   "execution_count": 63,
   "id": "b940982d-c3b2-420d-a94d-e0da0265fb8b",
   "metadata": {},
   "outputs": [
    {
     "data": {
      "text/plain": [
       "[[2, 4], [6, 8]]"
      ]
     },
     "execution_count": 63,
     "metadata": {},
     "output_type": "execute_result"
    }
   ],
   "source": [
    "[[digit * 2 for digit in digits] for digits in data]"
   ]
  },
  {
   "cell_type": "code",
   "execution_count": 77,
   "id": "2f1bf543-1f37-461b-a838-35cdb99e7a16",
   "metadata": {},
   "outputs": [
    {
     "data": {
      "text/plain": [
       "[1, 2, 3, 4]"
      ]
     },
     "execution_count": 77,
     "metadata": {},
     "output_type": "execute_result"
    }
   ],
   "source": [
    "# flat\n",
    "[digit for lists in data for digit in lists]"
   ]
  },
  {
   "cell_type": "code",
   "execution_count": 75,
   "id": "07dbdf3a-947b-4b1f-b7ce-967ce691bcd5",
   "metadata": {},
   "outputs": [
    {
     "data": {
      "text/plain": [
       "[1, 2, 3, 4]"
      ]
     },
     "execution_count": 75,
     "metadata": {},
     "output_type": "execute_result"
    }
   ],
   "source": [
    "# flat\n",
    "data2 = []\n",
    "\n",
    "for digits in data:\n",
    "    for digit in digits:\n",
    "        data2.append(digit)\n",
    "data2"
   ]
  },
  {
   "cell_type": "markdown",
   "id": "57c38ce4-552d-4b60-b5c9-2ef8886f5ee8",
   "metadata": {},
   "source": [
    "### DIcapitals = {\n",
    "    \"Poland\": \"Warsaw\",\n",
    "    \"Germany\": \"Berlin\",\n",
    "    \"France\": \"Paris\",\n",
    "    \"Italy\": \"Rome\",\n",
    "    \"Spain\": \"Madrid\",\n",
    "    \"United Kingdom\": \"London\",\n",
    "    \"United States\": \"Washington, D.C.\",\n",
    "    \"Canada\": \"Ottawa\",\n",
    "    \"Australia\": \"Canberra\",\n",
    "    \"Japan\": \"Tokyo\"\n",
    "}SCT COMPREHENSION\n",
    "\n",
    "```python\n",
    "d = {key : value for key, value in iterable[x,]}\n",
    "d = {key :"
   ]
  },
  {
   "cell_type": "code",
   "execution_count": 96,
   "id": "11a89373-acb6-4a22-9bbb-8e09aa3222f4",
   "metadata": {},
   "outputs": [],
   "source": [
    "capitals = {\n",
    "    \"Poland\": \"Warsaw\",\n",
    "    \"Germany\": \"Berlin\",\n",
    "    \"France\": \"Paris\",\n",
    "    \"Italy\": \"Rome\",\n",
    "    \"Spain\": \"Madrid\",\n",
    "    \"United Kingdom\": \"London\",\n",
    "    \"United States\": \"Washington, D.C.\",\n",
    "    \"Canada\": \"Ottawa\",\n",
    "    \"Australia\": \"Canberra\",\n",
    "    \"Japan\": \"Tokyo\"\n",
    "}"
   ]
  },
  {
   "cell_type": "code",
   "execution_count": 109,
   "id": "882f775c-2662-43c3-b35d-16dfaaf33258",
   "metadata": {},
   "outputs": [
    {
     "data": {
      "text/plain": [
       "{'poland': 'warsaw',\n",
       " 'germany': 'berlin',\n",
       " 'france': 'paris',\n",
       " 'italy': 'rome',\n",
       " 'spain': 'madrid',\n",
       " 'united kingdom': 'london',\n",
       " 'united states': 'washington, d.c.',\n",
       " 'canada': 'ottawa',\n",
       " 'australia': 'canberra',\n",
       " 'japan': 'tokyo'}"
      ]
     },
     "execution_count": 109,
     "metadata": {},
     "output_type": "execute_result"
    }
   ],
   "source": [
    "lower_capitals = {country.lower() : capital.lower() for country, capital in capitals.items()}\n",
    "lower_capitals"
   ]
  },
  {
   "cell_type": "code",
   "execution_count": 113,
   "id": "d4f91b9d-890c-4e6c-a554-61dd59c6aee8",
   "metadata": {},
   "outputs": [
    {
     "data": {
      "text/plain": [
       "{'Poland': 'Warsaw',\n",
       " 'Germany': 'Berlin',\n",
       " 'France': 'Paris',\n",
       " 'Italy': 'Rome',\n",
       " 'Spain': 'Madrid',\n",
       " 'United States': 'Washington, D.C.',\n",
       " 'Canada': 'Ottawa',\n",
       " 'Australia': 'Canberra',\n",
       " 'Japan': 'Tokyo'}"
      ]
     },
     "execution_count": 113,
     "metadata": {},
     "output_type": "execute_result"
    }
   ],
   "source": [
    "a_name_country = {country : capital for country, capital in capitals.items() if 'a' in country.lower()}\n",
    "a_name_country"
   ]
  },
  {
   "cell_type": "code",
   "execution_count": 119,
   "id": "29e9dc2d-25d3-439e-88f4-832905059054",
   "metadata": {},
   "outputs": [
    {
     "data": {
      "text/plain": [
       "{'Poland': 'Warsaw',\n",
       " 'Germany': 'Berlin',\n",
       " 'France': 'Paris',\n",
       " 'Italy': 'Rome',\n",
       " 'Spain': 'Madrid',\n",
       " 'United States': 'Washington, D.C.',\n",
       " 'Canada': 'Ottawa',\n",
       " 'Australia': 'Canberra',\n",
       " 'Japan': 'Tokyo',\n",
       " 'Wielka Rzeczpospolita': 'Januszvill'}"
      ]
     },
     "execution_count": 119,
     "metadata": {},
     "output_type": "execute_result"
    }
   ],
   "source": [
    "a_name_country[\"Wielka Rzeczpospolita\"] = \"Januszvill\"\n",
    "a_name_country"
   ]
  },
  {
   "cell_type": "code",
   "execution_count": 129,
   "id": "32fcc267-1501-49cf-b684-0f0b03a6ba5c",
   "metadata": {},
   "outputs": [
    {
     "data": {
      "text/plain": [
       "{'Warsaw': 'Poland',\n",
       " 'Berlin': 'Germany',\n",
       " 'Paris': 'France',\n",
       " 'Rome': 'Italy',\n",
       " 'Madrid': 'Spain',\n",
       " 'London': 'United Kingdom',\n",
       " 'Washington, D.C.': 'United States',\n",
       " 'Ottawa': 'Canada',\n",
       " 'Canberra': 'Australia',\n",
       " 'Tokyo': 'Japan'}"
      ]
     },
     "execution_count": 129,
     "metadata": {},
     "output_type": "execute_result"
    }
   ],
   "source": [
    "city_country = { capital: country for country, capital in capitals.items()}\n",
    "city_country"
   ]
  },
  {
   "cell_type": "code",
   "execution_count": 155,
   "id": "fab95b0a-b7c3-459f-ad5b-d33c118935ad",
   "metadata": {},
   "outputs": [
    {
     "data": {
      "text/plain": [
       "[{'A': None, 'B': None, 'C': None, 'D': None, 'E': None, 'G': None},\n",
       " {'A': None, 'B': None, 'C': None, 'D': None, 'E': None, 'G': None},\n",
       " {'A': None, 'B': None, 'C': None, 'D': None, 'E': None, 'G': None},\n",
       " {'A': None, 'B': None, 'C': None, 'D': None, 'E': None, 'G': None},\n",
       " {'A': None, 'B': None, 'C': None, 'D': None, 'E': None, 'G': None},\n",
       " {'A': None, 'B': None, 'C': None, 'D': None, 'E': None, 'G': None},\n",
       " {'A': None, 'B': None, 'C': None, 'D': None, 'E': None, 'G': None},\n",
       " {'A': None, 'B': None, 'C': None, 'D': None, 'E': None, 'G': None},\n",
       " {'A': None, 'B': None, 'C': None, 'D': None, 'E': None, 'G': None},\n",
       " {'A': None, 'B': None, 'C': None, 'D': None, 'E': None, 'G': None},\n",
       " {'A': None, 'B': None, 'C': None, 'D': None, 'E': None, 'G': None},\n",
       " {'A': None, 'B': None, 'C': None, 'D': None, 'E': None, 'G': None},\n",
       " {'A': None, 'B': None, 'C': None, 'D': None, 'E': None, 'G': None},\n",
       " {'A': None, 'B': None, 'C': None, 'D': None, 'E': None, 'G': None},\n",
       " {'A': None, 'B': None, 'C': None, 'D': None, 'E': None, 'G': None},\n",
       " {'A': None, 'B': None, 'C': None, 'D': None, 'E': None, 'G': None},\n",
       " {'A': None, 'B': None, 'C': None, 'D': None, 'E': None, 'G': None},\n",
       " {'A': None, 'B': None, 'C': None, 'D': None, 'E': None, 'G': None},\n",
       " {'A': None, 'B': None, 'C': None, 'D': None, 'E': None, 'G': None},\n",
       " {'A': None, 'B': None, 'C': None, 'D': None, 'E': None, 'G': None},\n",
       " {'A': None, 'B': None, 'C': None, 'D': None, 'E': None, 'G': None},\n",
       " {'A': None, 'B': None, 'C': None, 'D': None, 'E': None, 'G': None},\n",
       " {'A': None, 'B': None, 'C': None, 'D': None, 'E': None, 'G': None},\n",
       " {'A': None, 'B': None, 'C': None, 'D': None, 'E': None, 'G': None}]"
      ]
     },
     "execution_count": 155,
     "metadata": {},
     "output_type": "execute_result"
    }
   ],
   "source": [
    "letters = \"ABCDEG\"\n",
    "rows = range(1,25)\n",
    "\n",
    "# plane_plan = {letter+str(row): None for row in rows for letter in letters}\n",
    "plane_plan = [{letter : None for letter in letters} for row in rows]\n",
    "plane_plan"
   ]
  },
  {
   "cell_type": "code",
   "execution_count": null,
   "id": "93fcdbb0-6f0d-4117-8e34-9f8c6e0f4b79",
   "metadata": {},
   "outputs": [],
   "source": []
  }
 ],
 "metadata": {
  "kernelspec": {
   "display_name": "Python 3 (ipykernel)",
   "language": "python",
   "name": "python3"
  },
  "language_info": {
   "codemirror_mode": {
    "name": "ipython",
    "version": 3
   },
   "file_extension": ".py",
   "mimetype": "text/x-python",
   "name": "python",
   "nbconvert_exporter": "python",
   "pygments_lexer": "ipython3",
   "version": "3.12.4"
  }
 },
 "nbformat": 4,
 "nbformat_minor": 5
}
